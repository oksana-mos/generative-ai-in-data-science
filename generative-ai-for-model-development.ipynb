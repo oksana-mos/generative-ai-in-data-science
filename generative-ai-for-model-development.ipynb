{
  "metadata": {
    "kernelspec": {
      "name": "python",
      "display_name": "Python (Pyodide)",
      "language": "python"
    },
    "language_info": {
      "codemirror_mode": {
        "name": "python",
        "version": 3
      },
      "file_extension": ".py",
      "mimetype": "text/x-python",
      "name": "python",
      "nbconvert_exporter": "python",
      "pygments_lexer": "ipython3",
      "version": "3.8"
    }
  },
  "nbformat_minor": 4,
  "nbformat": 4,
  "cells": [
    {
      "cell_type": "markdown",
      "source": "<p style=\"text-align:center\">\n    <a href=\"https://skills.network\" target=\"_blank\">\n    <img src=\"https://cf-courses-data.s3.us.cloud-object-storage.appdomain.cloud/assets/logos/SN_web_lightmode.png\" width=\"300\" alt=\"Skills Network Logo\">\n    </a>\n</p>\n",
      "metadata": {}
    },
    {
      "cell_type": "markdown",
      "source": "# Test Environment for Generative AI classroom labs\n\nThis lab provides a test environment for the codes generated using the Generative AI classroom.\n\nIn this lab, you will learn how to use generative AI to create Python codes that can:\n\n- Use linear regression in one variable to fit the parameters to a model\n- Use linear regression in multiple variables to fit the parameters to a model\n- Use polynomial regression in a single variable to fit the parameters to a model\n- Create a pipeline for performing linear regression using multiple features in polynomial scaling\n- Use the grid search with cross-validation and ridge regression to create a model with optimum hyperparameters",
      "metadata": {}
    },
    {
      "cell_type": "markdown",
      "source": "# Setup\n",
      "metadata": {}
    },
    {
      "cell_type": "markdown",
      "source": "### Install required libraries\n\nIn case of a requirement of installing certain python libraries for use in your task, you may do so as shown below.\n",
      "metadata": {}
    },
    {
      "cell_type": "code",
      "source": "%pip install seaborn\nimport piplite\n\nawait piplite.install(['nbformat', 'plotly'])",
      "metadata": {
        "trusted": true
      },
      "outputs": [],
      "execution_count": 1
    },
    {
      "cell_type": "markdown",
      "source": "### Dataset URL from the GenAI lab\nUse the URL provided in the GenAI lab in the cell below. \n",
      "metadata": {}
    },
    {
      "cell_type": "code",
      "source": "URL = \"https://cf-courses-data.s3.us.cloud-object-storage.appdomain.cloud/IBMDeveloperSkillsNetwork-DA0101EN-Coursera/laptop_pricing_dataset_mod2.csv\"",
      "metadata": {
        "trusted": true
      },
      "outputs": [],
      "execution_count": 2
    },
    {
      "cell_type": "markdown",
      "source": "### Downloading the dataset\n\nExecute the following code to download the dataset in to the interface.\n\n> Please note that this step is essential in JupyterLite. If you are using a downloaded version of this notebook and running it on JupyterLabs, then you can skip this step and directly use the URL in pandas.read_csv() function to read the dataset as a dataframe\n",
      "metadata": {}
    },
    {
      "cell_type": "code",
      "source": "from pyodide.http import pyfetch\n\nasync def download(url, filename):\n    response = await pyfetch(url)\n    if response.status == 200:\n        with open(filename, \"wb\") as f:\n            f.write(await response.bytes())\n\npath = URL\n\nawait download(path, \"dataset.csv\")",
      "metadata": {
        "trusted": true
      },
      "outputs": [],
      "execution_count": 3
    },
    {
      "cell_type": "markdown",
      "source": "---\n",
      "metadata": {}
    },
    {
      "cell_type": "markdown",
      "source": "# Test Environment\n",
      "metadata": {}
    },
    {
      "cell_type": "code",
      "source": "# Keep appending the code generated to this cell, or add more cells below this to execute in parts\nimport pandas as pd\n\n# Define the file path\nfile_path = \"dataset.csv\"\n\n# Read the CSV file into a pandas data frame\ndata_frame = pd.read_csv(file_path)\n\n# Assume the first row of the file can be used as the headers for the data\n# If the file doesn't have headers, you can remove the 'header' parameter\ndata_frame = pd.read_csv(file_path, header=0)\n\ndata_frame.head()",
      "metadata": {
        "trusted": true
      },
      "outputs": [
        {
          "name": "stderr",
          "text": "<ipython-input-4-773fe995635b>:2: DeprecationWarning: \nPyarrow will become a required dependency of pandas in the next major release of pandas (pandas 3.0),\n(to allow more performant data types, such as the Arrow string type, and better interoperability with other libraries)\nbut was not found to be installed on your system.\nIf this would cause problems for you,\nplease provide us feedback at https://github.com/pandas-dev/pandas/issues/54466\n        \n  import pandas as pd\n",
          "output_type": "stream"
        },
        {
          "execution_count": 4,
          "output_type": "execute_result",
          "data": {
            "text/plain": "   Unnamed: 0.1  Unnamed: 0 Manufacturer  Category  GPU  OS  CPU_core  \\\n0             0           0         Acer         4    2   1         5   \n1             1           1         Dell         3    1   1         3   \n2             2           2         Dell         3    1   1         7   \n3             3           3         Dell         4    2   1         5   \n4             4           4           HP         4    2   1         7   \n\n   Screen_Size_inch  CPU_frequency  RAM_GB  Storage_GB_SSD  Weight_pounds  \\\n0              14.0       0.551724       8             256        3.52800   \n1              15.6       0.689655       4             256        4.85100   \n2              15.6       0.931034       8             256        4.85100   \n3              13.3       0.551724       8             128        2.69010   \n4              15.6       0.620690       8             256        4.21155   \n\n   Price Price-binned  Screen-Full_HD  Screen-IPS_panel  \n0    978          Low               0                 1  \n1    634          Low               1                 0  \n2    946          Low               1                 0  \n3   1244          Low               0                 1  \n4    837          Low               1                 0  ",
            "text/html": "<div>\n<style scoped>\n    .dataframe tbody tr th:only-of-type {\n        vertical-align: middle;\n    }\n\n    .dataframe tbody tr th {\n        vertical-align: top;\n    }\n\n    .dataframe thead th {\n        text-align: right;\n    }\n</style>\n<table border=\"1\" class=\"dataframe\">\n  <thead>\n    <tr style=\"text-align: right;\">\n      <th></th>\n      <th>Unnamed: 0.1</th>\n      <th>Unnamed: 0</th>\n      <th>Manufacturer</th>\n      <th>Category</th>\n      <th>GPU</th>\n      <th>OS</th>\n      <th>CPU_core</th>\n      <th>Screen_Size_inch</th>\n      <th>CPU_frequency</th>\n      <th>RAM_GB</th>\n      <th>Storage_GB_SSD</th>\n      <th>Weight_pounds</th>\n      <th>Price</th>\n      <th>Price-binned</th>\n      <th>Screen-Full_HD</th>\n      <th>Screen-IPS_panel</th>\n    </tr>\n  </thead>\n  <tbody>\n    <tr>\n      <th>0</th>\n      <td>0</td>\n      <td>0</td>\n      <td>Acer</td>\n      <td>4</td>\n      <td>2</td>\n      <td>1</td>\n      <td>5</td>\n      <td>14.0</td>\n      <td>0.551724</td>\n      <td>8</td>\n      <td>256</td>\n      <td>3.52800</td>\n      <td>978</td>\n      <td>Low</td>\n      <td>0</td>\n      <td>1</td>\n    </tr>\n    <tr>\n      <th>1</th>\n      <td>1</td>\n      <td>1</td>\n      <td>Dell</td>\n      <td>3</td>\n      <td>1</td>\n      <td>1</td>\n      <td>3</td>\n      <td>15.6</td>\n      <td>0.689655</td>\n      <td>4</td>\n      <td>256</td>\n      <td>4.85100</td>\n      <td>634</td>\n      <td>Low</td>\n      <td>1</td>\n      <td>0</td>\n    </tr>\n    <tr>\n      <th>2</th>\n      <td>2</td>\n      <td>2</td>\n      <td>Dell</td>\n      <td>3</td>\n      <td>1</td>\n      <td>1</td>\n      <td>7</td>\n      <td>15.6</td>\n      <td>0.931034</td>\n      <td>8</td>\n      <td>256</td>\n      <td>4.85100</td>\n      <td>946</td>\n      <td>Low</td>\n      <td>1</td>\n      <td>0</td>\n    </tr>\n    <tr>\n      <th>3</th>\n      <td>3</td>\n      <td>3</td>\n      <td>Dell</td>\n      <td>4</td>\n      <td>2</td>\n      <td>1</td>\n      <td>5</td>\n      <td>13.3</td>\n      <td>0.551724</td>\n      <td>8</td>\n      <td>128</td>\n      <td>2.69010</td>\n      <td>1244</td>\n      <td>Low</td>\n      <td>0</td>\n      <td>1</td>\n    </tr>\n    <tr>\n      <th>4</th>\n      <td>4</td>\n      <td>4</td>\n      <td>HP</td>\n      <td>4</td>\n      <td>2</td>\n      <td>1</td>\n      <td>7</td>\n      <td>15.6</td>\n      <td>0.620690</td>\n      <td>8</td>\n      <td>256</td>\n      <td>4.21155</td>\n      <td>837</td>\n      <td>Low</td>\n      <td>1</td>\n      <td>0</td>\n    </tr>\n  </tbody>\n</table>\n</div>"
          },
          "metadata": {}
        }
      ],
      "execution_count": 4
    },
    {
      "cell_type": "code",
      "source": "import pandas as pd\nfrom sklearn.linear_model import LinearRegression\nfrom sklearn.metrics import mean_squared_error, r2_score\n\n# Assume you have a pandas data frame called 'data_frame' with two columns: 'source_variable' and 'target_variable'\n\n# Extract the source variable and target variable from the data frame\nX = data_frame[['CPU_frequency']]\ny = data_frame['Price']\n\n# Initialize a linear regression model\nmodel = LinearRegression()\n\n# Train the model using the source and target variables\nmodel.fit(X, y)\n\n# Make predictions using the trained model\ny_pred = model.predict(X)\n\n# Calculate the mean squared error (MSE)\nmse = mean_squared_error(y, y_pred)\n\n# Calculate the coefficient of determination (R^2)\nr2 = r2_score(y, y_pred)\n\n# Display the MSE and R^2 values\nprint(\"Mean Squared Error (MSE):\", mse)\nprint(\"Coefficient of Determination (R^2):\", r2)\n",
      "metadata": {
        "trusted": true
      },
      "outputs": [
        {
          "name": "stdout",
          "text": "Mean Squared Error (MSE): 284583.44058686297\nCoefficient of Determination (R^2): 0.13444363210243238\n",
          "output_type": "stream"
        }
      ],
      "execution_count": 5
    },
    {
      "cell_type": "code",
      "source": "import pandas as pd\nfrom sklearn.linear_model import LinearRegression\nfrom sklearn.metrics import mean_squared_error, r2_score\n\n# Assume you have a pandas data frame called 'data_frame' with multiple columns: 'source_variable_1', 'source_variable_2', ..., 'target_variable'\n\n# Extract the source variables and target variable from the data frame\nX = data_frame[['CPU_frequency', 'RAM_GB', 'Storage_GB_SSD', 'CPU_core', 'OS', 'GPU', 'Category']]\ny = data_frame['Price']\n\n# Initialize a linear regression model\nmodel = LinearRegression()\n\n# Train the model using the source and target variables\nmodel.fit(X, y)\n\n# Make predictions using the trained model\ny_pred = model.predict(X)\n\n# Calculate the mean squared error (MSE)\nmse = mean_squared_error(y, y_pred)\n\n# Calculate the coefficient of determination (R^2)\nr2 = r2_score(y, y_pred)\n\n# Display the MSE and R^2 values\nprint(\"Mean Squared Error (MSE):\", mse)\nprint(\"Coefficient of Determination (R^2):\", r2)\n",
      "metadata": {
        "trusted": true
      },
      "outputs": [
        {
          "name": "stdout",
          "text": "Mean Squared Error (MSE): 161680.57263893107\nCoefficient of Determination (R^2): 0.5082509055187374\n",
          "output_type": "stream"
        }
      ],
      "execution_count": 6
    },
    {
      "cell_type": "code",
      "source": "import pandas as pd\nimport numpy as np\nfrom sklearn.linear_model import LinearRegression\nfrom sklearn.preprocessing import PolynomialFeatures\nfrom sklearn.metrics import mean_squared_error, r2_score\n\n# Assume you have a pandas data frame called 'data_frame' with two columns: 'source_variable' and 'target_variable'\n\n# Extract the source variable and target variable from the data frame\nX = data_frame[['CPU_frequency']]\ny = data_frame['Price']\n\n# Initialize lists to store the MSE and R^2 values for each model\nmse_values = []\nr2_values = []\n\n# Loop through the polynomial orders\nfor order in [2, 3, 5]:\n    # Create polynomial features\n    polynomial_features = PolynomialFeatures(degree=order)\n    X_poly = polynomial_features.fit_transform(X)\n\n    # Initialize a linear regression model\n    model = LinearRegression()\n\n    # Train the model using the polynomial features and target variable\n    model.fit(X_poly, y)\n\n    # Make predictions using the trained model\n    y_pred = model.predict(X_poly)\n\n    # Calculate the mean squared error (MSE)\n    mse = mean_squared_error(y, y_pred)\n\n    # Calculate the coefficient of determination (R^2)\n    r2 = r2_score(y, y_pred)\n\n    # Append the MSE and R^2 values to the lists\n    mse_values.append(mse)\n    r2_values.append(r2)\n\n    # Display the MSE and R^2 values for the current model\n    print(f\"Polynomial Order {order}:\")\n    print(\"Mean Squared Error (MSE):\", mse)\n    print(\"Coefficient of Determination (R^2):\", r2)\n    print()\n\n# Compare the performance of the models\nbest_order = np.argmin(mse_values)\nworst_order = np.argmax(r2_values)\n\nprint(\"Model Comparison:\")\nprint(f\"Best Polynomial Order: {best_order + 2}\")\nprint(f\"Worst Polynomial Order: {worst_order + 2}\")\n",
      "metadata": {
        "trusted": true
      },
      "outputs": [
        {
          "name": "stdout",
          "text": "Polynomial Order 2:\nMean Squared Error (MSE): 249022.66596751186\nCoefficient of Determination (R^2): 0.2426012074542374\n\nPolynomial Order 3:\nMean Squared Error (MSE): 241024.863038488\nCoefficient of Determination (R^2): 0.2669264079653102\n\nPolynomial Order 5:\nMean Squared Error (MSE): 229137.29548054413\nCoefficient of Determination (R^2): 0.30308227064436244\n\nModel Comparison:\nBest Polynomial Order: 4\nWorst Polynomial Order: 4\n",
          "output_type": "stream"
        }
      ],
      "execution_count": 7
    },
    {
      "cell_type": "code",
      "source": "import pandas as pd\nimport numpy as np\nfrom sklearn.pipeline import make_pipeline\nfrom sklearn.preprocessing import StandardScaler, PolynomialFeatures\nfrom sklearn.linear_model import LinearRegression\nfrom sklearn.metrics import mean_squared_error, r2_score\n\n# Assume you have a pandas data frame called 'data_frame' with multiple columns: 'source_variable_1', 'source_variable_2', ..., 'target_variable'\n\n# Extract the source variables and target variable from the data frame\nX = data_frame[['CPU_frequency', 'RAM_GB', 'Storage_GB_SSD','CPU_core','OS','GPU', 'Category']]\ny = data_frame['Price']\n\n# Create a pipeline that performs parameter scaling, polynomial feature generation, and linear regression\npipeline = make_pipeline(\n    StandardScaler(),\n    PolynomialFeatures(degree=2),\n    LinearRegression()\n)\n\n# Train the model using the source and target variables\npipeline.fit(X, y)\n\n# Make predictions using the trained model\ny_pred = pipeline.predict(X)\n\n# Calculate the mean squared error (MSE)\nmse = mean_squared_error(y, y_pred)\n\n# Calculate the coefficient of determination (R^2)\nr2 = r2_score(y, y_pred)\n\n# Display the MSE and R^2 values\nprint(\"Mean Squared Error (MSE):\", mse)\nprint(\"Coefficient of Determination (R^2):\", r2)\n",
      "metadata": {
        "trusted": true
      },
      "outputs": [
        {
          "name": "stdout",
          "text": "Mean Squared Error (MSE): 120934.2421875\nCoefficient of Determination (R^2): 0.6321802730109751\n",
          "output_type": "stream"
        }
      ],
      "execution_count": 8
    },
    {
      "cell_type": "code",
      "source": "import pandas as pd\nimport numpy as np\nfrom sklearn.model_selection import GridSearchCV, cross_val_score\nfrom sklearn.preprocessing import PolynomialFeatures\nfrom sklearn.linear_model import Ridge\nfrom sklearn.metrics import mean_squared_error, r2_score\n\n# Assume you have a pandas data frame called 'data_frame' with multiple columns: 'source_variable_1', 'source_variable_2', ..., 'target_variable'\n\n# Extract the source variables and target variable from the data frame\nX = data_frame[['CPU_frequency', 'RAM_GB', 'Storage_GB_SSD', 'CPU_core', 'OS', 'GPU', 'Category']]  \ny = data_frame['Price'] \n\n# Create polynomial features with degree=2\npolynomial_features = PolynomialFeatures(degree=2)\n\n# Transform the source variables into polynomial features\nX_poly = polynomial_features.fit_transform(X)\n\n# Define the hyperparameter values for the grid search (we no longer need the degree parameter here)\nparam_grid = {'alpha': [0.0001,0.001,0.01, 0.1, 1, 10]}  # We only search over alpha for Ridge regression\n\n# Initialize a ridge regression model\nmodel = Ridge()\n\n# Perform grid search with cross-validation\ngrid_search = GridSearchCV(model, param_grid, cv=4)\n\n# Train the model using the polynomial features and target variable\ngrid_search.fit(X_poly, y)\n\n# Make predictions using the trained model\ny_pred = grid_search.predict(X_poly)\n\n# Calculate the mean squared error (MSE)\nmse = mean_squared_error(y, y_pred)\n\n# Calculate the coefficient of determination (R^2)\nr2 = r2_score(y, y_pred)\n\n# Display the MSE and R^2 values\nprint(\"Mean Squared Error (MSE):\", mse)\nprint(\"Coefficient of Determination (R^2):\", r2)\n",
      "metadata": {
        "trusted": true
      },
      "outputs": [
        {
          "name": "stdout",
          "text": "Mean Squared Error (MSE): 128987.04078699532\nCoefficient of Determination (R^2): 0.6076878039733669\n",
          "output_type": "stream"
        }
      ],
      "execution_count": 11
    },
    {
      "cell_type": "markdown",
      "source": "## Authors\n",
      "metadata": {}
    },
    {
      "cell_type": "markdown",
      "source": "[Abhishek Gagneja](https://www.linkedin.com/in/abhishek-gagneja-23051987/)\n",
      "metadata": {}
    },
    {
      "cell_type": "markdown",
      "source": "## Change Log\n",
      "metadata": {}
    },
    {
      "cell_type": "markdown",
      "source": "|Date (YYYY-MM-DD)|Version|Changed By|Change Description|\n|-|-|-|-|\n|2023-12-10|0.1|Abhishek Gagneja|Initial Draft created|\n",
      "metadata": {}
    },
    {
      "cell_type": "markdown",
      "source": "Copyright © 2023 IBM Corporation. All rights reserved.\n",
      "metadata": {}
    }
  ]
}